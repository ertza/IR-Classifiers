{
 "cells": [
  {
   "cell_type": "markdown",
   "metadata": {},
   "source": [
    "### Library imports for the code"
   ]
  },
  {
   "cell_type": "code",
   "execution_count": 1,
   "metadata": {},
   "outputs": [],
   "source": [
    "import numpy as np\n",
    "import scipy.io as sio\n",
    "import matplotlib.pyplot as plt\n",
    "import warnings\n",
    "import os, re\n",
    "from sklearn.feature_extraction.text import CountVectorizer, TfidfTransformer\n",
    "from sklearn.model_selection import train_test_split\n",
    "from sklearn.naive_bayes import MultinomialNB\n",
    "from sklearn.metrics import confusion_matrix, f1_score, accuracy_score\n",
    "from sklearn.metrics import precision_score, recall_score, classification_report\n",
    "from sklearn.neighbors import NearestCentroid, KNeighborsClassifier\n",
    "from datetime import datetime as dt\n",
    "%matplotlib inline\n",
    "warnings.filterwarnings('ignore')"
   ]
  },
  {
   "cell_type": "markdown",
   "metadata": {},
   "source": [
    "### Classifier Tester"
   ]
  },
  {
   "cell_type": "markdown",
   "metadata": {},
   "source": [
    "Will test and show important metrics for any classifier passed to it"
   ]
  },
  {
   "cell_type": "code",
   "execution_count": 2,
   "metadata": {},
   "outputs": [],
   "source": [
    "def testClassifier(x_train, y_train, x_test, y_test, clf):\n",
    "    metrics = []\n",
    "    start = dt.now()\n",
    "    clf.fit(x_train, y_train)\n",
    "    end = dt.now()\n",
    "    print ('training time: ', (end - start))\n",
    "    metrics.append(end-start)\n",
    "    start = dt.now()\n",
    "    yhat = clf.predict(x_test)\n",
    "    end = dt.now()\n",
    "    print ('testing time: ', (end - start))\n",
    "    metrics.append(end-start)\n",
    "    print ('classification report: ')\n",
    "    print(classification_report(y_test, yhat))\n",
    "    print ('f1 score')\n",
    "    print (f1_score(y_test, yhat, average='macro'))\n",
    "    print ('accuracy score')\n",
    "    print (accuracy_score(y_test, yhat))\n",
    "    precision = precision_score(y_test, yhat, average=None)\n",
    "    recall = recall_score(y_test, yhat, average=None)\n",
    "    for p, r in zip(precision, recall):\n",
    "        metrics.append(p)\n",
    "        metrics.append(r)\n",
    "    metrics.append(f1_score(y_test, yhat, average='macro'))\n",
    "    print ('confusion matrix:')\n",
    "    print (confusion_matrix(y_test, yhat))\n",
    "    plt.imshow(confusion_matrix(y_test, yhat), interpolation='nearest')\n",
    "    plt.show()\n",
    "    return metrics\n",
    "metrics_dict = []"
   ]
  },
  {
   "cell_type": "markdown",
   "metadata": {},
   "source": [
    "## DBWorld Emails Data"
   ]
  },
  {
   "cell_type": "markdown",
   "metadata": {},
   "source": [
    "The data for this database is already pre-processed and in bag of words format. We just read and split the data into train test sets"
   ]
  },
  {
   "cell_type": "code",
   "execution_count": 3,
   "metadata": {},
   "outputs": [],
   "source": [
    "dbworld = 'Datasets/dbworld/MATLAB/dbworld_bodies_stemmed.mat'\n",
    "db_world = sio.loadmat(dbworld)\n",
    "db_world_inputs = db_world['inputs']\n",
    "db_world_labels = db_world['labels'].reshape(len(db_world['labels']),)\n",
    "X_train, X_test, y_train, y_test = train_test_split(db_world_inputs, \n",
    "                    db_world_labels, test_size=0.33, random_state=42)"
   ]
  },
  {
   "cell_type": "markdown",
   "metadata": {},
   "source": [
    "#### Naive Bayes"
   ]
  },
  {
   "cell_type": "markdown",
   "metadata": {},
   "source": [
    "We have chosen MultinomialNB as it gives the best results for Naive Bayes in case of text classification."
   ]
  },
  {
   "cell_type": "code",
   "execution_count": 4,
   "metadata": {
    "scrolled": true
   },
   "outputs": [
    {
     "name": "stdout",
     "output_type": "stream",
     "text": [
      "training time:  0:00:00.012191\n",
      "testing time:  0:00:00\n",
      "classification report: \n",
      "             precision    recall  f1-score   support\n",
      "\n",
      "          0       0.92      0.92      0.92        13\n",
      "          1       0.89      0.89      0.89         9\n",
      "\n",
      "avg / total       0.91      0.91      0.91        22\n",
      "\n",
      "f1 score\n",
      "0.905982905982906\n",
      "accuracy score\n",
      "0.9090909090909091\n",
      "confusion matrix:\n",
      "[[12  1]\n",
      " [ 1  8]]\n"
     ]
    },
    {
     "data": {
      "image/png": "[encoded data removed]",
      "text/plain": [
       "<Figure size 432x288 with 1 Axes>"
      ]
     },
     "metadata": {},
     "output_type": "display_data"
    }
   ],
   "source": [
    "mnb = MultinomialNB()\n",
    "mnb_me = testClassifier(X_train, y_train, X_test, y_test, mnb)\n",
    "metrics_dict.append({'name':'NaiveBayes', 'metrics':mnb_me})"
   ]
  },
  {
   "cell_type": "markdown",
   "metadata": {},
   "source": [
    "#### Rocchio Classification"
   ]
  },
  {
   "cell_type": "markdown",
   "metadata": {},
   "source": [
    "For this we will be using the NearestCentroid classifier as when it is used for text classification with tf-idf vectors, this classifier is also known as the Rocchio classifier."
   ]
  },
  {
   "cell_type": "code",
   "execution_count": 5,
   "metadata": {},
   "outputs": [
    {
     "name": "stdout",
     "output_type": "stream",
     "text": [
      "training time:  0:00:00.002045\n",
      "testing time:  0:00:00.000997\n",
      "classification report: \n",
      "             precision    recall  f1-score   support\n",
      "\n",
      "          0       1.00      0.85      0.92        13\n",
      "          1       0.82      1.00      0.90         9\n",
      "\n",
      "avg / total       0.93      0.91      0.91        22\n",
      "\n",
      "f1 score\n",
      "0.9083333333333333\n",
      "accuracy score\n",
      "0.9090909090909091\n",
      "confusion matrix:\n",
      "[[11  2]\n",
      " [ 0  9]]\n"
     ]
    },
    {
     "data": {
      "image/png": "[encoded data removed]",
      "text/plain": [
       "<Figure size 432x288 with 1 Axes>"
      ]
     },
     "metadata": {},
     "output_type": "display_data"
    }
   ],
   "source": [
    "tfidf = TfidfTransformer()\n",
    "tfidf.fit(X_train)\n",
    "train_tf = tfidf.transform(X_train)\n",
    "test_tf = tfidf.transform(X_test)\n",
    "ncr = NearestCentroid()\n",
    "ncr_me = testClassifier(train_tf, y_train, test_tf, y_test, ncr)\n",
    "metrics_dict.append({'name':'Rocchio', 'metrics':ncr_me})"
   ]
  },
  {
   "cell_type": "markdown",
   "metadata": {},
   "source": [
    "#### kNN Classification"
   ]
  },
  {
   "cell_type": "markdown",
   "metadata": {},
   "source": [
    "We'll use kNearestNeighbor for classification now. We tried different values for k and 4 came out to be the best for this."
   ]
  },
  {
   "cell_type": "code",
   "execution_count": 6,
   "metadata": {
    "scrolled": true
   },
   "outputs": [
    {
     "name": "stdout",
     "output_type": "stream",
     "text": [
      "training time:  0:00:00\n",
      "testing time:  0:00:00.003567\n",
      "classification report: \n",
      "             precision    recall  f1-score   support\n",
      "\n",
      "          0       1.00      0.92      0.96        13\n",
      "          1       0.90      1.00      0.95         9\n",
      "\n",
      "avg / total       0.96      0.95      0.95        22\n",
      "\n",
      "f1 score\n",
      "0.9536842105263159\n",
      "accuracy score\n",
      "0.9545454545454546\n",
      "confusion matrix:\n",
      "[[12  1]\n",
      " [ 0  9]]\n"
     ]
    },
    {
     "data": {
      "image/png": "[encoded data removed]",
      "text/plain": [
       "<Figure size 432x288 with 1 Axes>"
      ]
     },
     "metadata": {},
     "output_type": "display_data"
    }
   ],
   "source": [
    "knn = KNeighborsClassifier(n_neighbors = 4)\n",
    "knn_me = testClassifier(train_tf, y_train, test_tf, y_test, knn)\n",
    "metrics_dict.append({'name':'kNN', 'metrics':knn_me})"
   ]
  },
  {
   "cell_type": "markdown",
   "metadata": {},
   "source": [
    "#### Conclusion"
   ]
  },
  {
   "cell_type": "markdown",
   "metadata": {},
   "source": [
    "As we can see the kNN classifier with k=4 gives the highest accuracy and f1 score for this document. The training time is negligible but the testing time is the highest among all as it is a known trait of kNN."
   ]
  },
  {
   "cell_type": "markdown",
   "metadata": {},
   "source": [
    "## Health Tweets"
   ]
  },
  {
   "cell_type": "markdown",
   "metadata": {},
   "source": [
    "First of all we need to do pre-processing on the data as it is in raw text format. We split the tweets according to the delimeter '|' and clean-up the text."
   ]
  },
  {
   "cell_type": "markdown",
   "metadata": {},
   "source": [
    "#### Pre-processing"
   ]
  },
  {
   "cell_type": "markdown",
   "metadata": {},
   "source": [
    "We divide the documents into different classes according to the news agency accounts. The documents are then converted to tf-idf vectors. Further they are split into train test sets."
   ]
  },
  {
   "cell_type": "code",
   "execution_count": 7,
   "metadata": {},
   "outputs": [],
   "source": [
    "health_tweet = os.listdir('Datasets/Health-News-Tweets/Health-Tweets/')\n",
    "X_data = []\n",
    "y_data = []\n",
    "for files in health_tweet:\n",
    "    file = open('Datasets/Health-News-Tweets/Health-Tweets/'+files, encoding=\"utf8\")\n",
    "    data = file.readlines()\n",
    "    for line in data:\n",
    "        try:\n",
    "            line = re.sub(r\"http\\S+\", \"\", line.split('|')[2]).lower()\n",
    "            X_data.append(line.strip())\n",
    "            y_data.append(files.rstrip('.txt'))\n",
    "        except: pass\n",
    "    file.close()\n",
    "vectorizer = CountVectorizer()\n",
    "vectorizer.fit(X_data)\n",
    "train_mat = vectorizer.transform(X_data)\n",
    "tfidf = TfidfTransformer()\n",
    "tfidf.fit(train_mat)\n",
    "train_tfmat = tfidf.transform(train_mat)\n",
    "X_train, X_test, y_train, y_test = train_test_split(train_tfmat, \n",
    "                    y_data, test_size=0.33, random_state=42)"
   ]
  },
  {
   "cell_type": "markdown",
   "metadata": {},
   "source": [
    "#### Naive Bayes"
   ]
  },
  {
   "cell_type": "markdown",
   "metadata": {},
   "source": [
    "We have chosen MultinomialNB as it gives the best results for Naive Bayes in case of text classification."
   ]
  },
  {
   "cell_type": "code",
   "execution_count": 8,
   "metadata": {},
   "outputs": [
    {
     "name": "stdout",
     "output_type": "stream",
     "text": [
      "training time:  0:00:00.274875\n",
      "testing time:  0:00:00.024196\n",
      "classification report: \n",
      "                  precision    recall  f1-score   support\n",
      "\n",
      "KaiserHealthNews       0.71      0.67      0.69      1202\n",
      "       NBChealth       0.54      0.24      0.33      1419\n",
      "       bbchealth       0.89      0.38      0.53      1323\n",
      "       cbchealth       0.78      0.22      0.34      1274\n",
      "       cnnhealth       0.75      0.23      0.36      1315\n",
      "  everydayhealth       0.97      0.21      0.35      1083\n",
      "   foxnewshealth       1.00      0.01      0.01       638\n",
      "   gdnhealthcare       0.94      0.78      0.85       982\n",
      "      goodhealth       0.33      0.95      0.49      2527\n",
      "   latimeshealth       0.56      0.16      0.24      1425\n",
      "   msnhealthnews       0.50      0.32      0.39      1041\n",
      "       nprhealth       0.31      0.21      0.25      1534\n",
      "   nytimeshealth       0.30      0.70      0.42      2005\n",
      "  reuters_health       0.42      0.59      0.49      1597\n",
      "    usnewshealth       1.00      0.01      0.02       472\n",
      "       wsjhealth       0.95      0.44      0.60      1061\n",
      "\n",
      "     avg / total       0.61      0.45      0.42     20898\n",
      "\n",
      "f1 score\n",
      "0.39768202422709514\n",
      "accuracy score\n",
      "0.44573643410852715\n",
      "confusion matrix:\n",
      "[[ 805    9    0    1    3    0    0    1  127    2    0   77  162   10\n",
      "     0    5]\n",
      " [  36  335    8   13   16    1    0    0  327   23   53  126  324  156\n",
      "     0    1]\n",
      " [   2   23  505   15    5    0    0   45  203   10   32   53  284  146\n",
      "     0    0]\n",
      " [   4   52   13  280   11    0    0    1  220   22   30   68  362  209\n",
      "     0    2]\n",
      " [   9   33    2    6  306    1    0    0  645   10   13   53  187   49\n",
      "     0    1]\n",
      " [   1    0    0    0    3  231    0    0  744   12   17   10   57    8\n",
      "     0    0]\n",
      " [   0   42    4    7   11    0    4    0  191   15   35   38  151  140\n",
      "     0    0]\n",
      " [   1    0    2    1    3    0    0  767  134    0    0    3   69    1\n",
      "     0    1]\n",
      " [   3    2    2    0    6    0    0    1 2412    6   16    7   58   14\n",
      "     0    0]\n",
      " [  30   18    4    8    9    0    0    0  613  223   39   58  337   84\n",
      "     0    2]\n",
      " [   8   31    4    3    2    1    0    0  254   29  330   56  243   80\n",
      "     0    0]\n",
      " [ 101   31    8    9    8    0    0    1  434   19   21  316  449  136\n",
      "     0    1]\n",
      " [  32   13    3    4    6    2    0    1  329   10   13   62 1394  134\n",
      "     0    2]\n",
      " [  32   27   12   11    5    0    0    2  132   14   58   68  293  936\n",
      "     0    7]\n",
      " [   6    1    0    0    7    3    0    1  389    1    0    3   53    2\n",
      "     5    1]\n",
      " [  63    7    3    2    5    0    0    0  125    5    7   26  222  130\n",
      "     0  466]]\n"
     ]
    },
    {
     "data": {
      "image/png": "[encoded data removed]",
      "text/plain": [
       "<Figure size 432x288 with 1 Axes>"
      ]
     },
     "metadata": {},
     "output_type": "display_data"
    }
   ],
   "source": [
    "mnb = MultinomialNB()\n",
    "mnb_me = testClassifier(X_train, y_train, X_test, y_test, mnb)\n",
    "metrics_dict.append({'name':'NaiveBayes', 'metrics':mnb_me})"
   ]
  },
  {
   "cell_type": "markdown",
   "metadata": {},
   "source": [
    "#### Rocchio Classification"
   ]
  },
  {
   "cell_type": "markdown",
   "metadata": {},
   "source": [
    "For this we will be using the NearestCentroid classifier as when it is used for text classification with tf-idf vectors, this classifier is also known as the Rocchio classifier."
   ]
  },
  {
   "cell_type": "code",
   "execution_count": 9,
   "metadata": {},
   "outputs": [
    {
     "name": "stdout",
     "output_type": "stream",
     "text": [
      "training time:  0:00:00.107705\n",
      "testing time:  0:00:00.028529\n",
      "classification report: \n",
      "                  precision    recall  f1-score   support\n",
      "\n",
      "KaiserHealthNews       0.65      0.72      0.68      1202\n",
      "       NBChealth       0.40      0.26      0.32      1419\n",
      "       bbchealth       0.78      0.38      0.51      1323\n",
      "       cbchealth       0.45      0.47      0.46      1274\n",
      "       cnnhealth       0.47      0.48      0.47      1315\n",
      "  everydayhealth       0.70      0.48      0.57      1083\n",
      "   foxnewshealth       0.24      0.29      0.26       638\n",
      "   gdnhealthcare       0.85      0.72      0.78       982\n",
      "      goodhealth       0.75      0.68      0.71      2527\n",
      "   latimeshealth       0.38      0.42      0.40      1425\n",
      "   msnhealthnews       0.33      0.62      0.44      1041\n",
      "       nprhealth       0.20      0.41      0.27      1534\n",
      "   nytimeshealth       0.82      0.35      0.49      2005\n",
      "  reuters_health       0.43      0.52      0.47      1597\n",
      "    usnewshealth       0.54      0.56      0.55       472\n",
      "       wsjhealth       0.97      0.61      0.75      1061\n",
      "\n",
      "     avg / total       0.57      0.50      0.51     20898\n",
      "\n",
      "f1 score\n",
      "0.5077887318330322\n",
      "accuracy score\n",
      "0.49842090152167673\n",
      "confusion matrix:\n",
      "[[ 860   16    4   12   29    2    2    6   12   31    5  197    7    9\n",
      "     5    5]\n",
      " [  59  372   13  106   56   11   92    0   22   88  159  282   13  133\n",
      "    11    2]\n",
      " [   2   30  507  116   20    7   65   99    8   30   90  204    8  128\n",
      "     7    2]\n",
      " [   3   41   18  593   19    7   67    1   15   67   96  183   17  143\n",
      "     4    0]\n",
      " [  13   41    6   52  626   19   52    3   93   90   65  173   16   33\n",
      "    33    0]\n",
      " [   1   20    8    6   60  522    6    1  191   48   62   93    8    5\n",
      "    52    0]\n",
      " [   1   51    1   32   15    8  187    1   16   41  109   82    6   81\n",
      "     7    0]\n",
      " [   4    5   14   15   65    1    1  706    5   44    2  107    9    2\n",
      "     2    0]\n",
      " [   5   26   15   11  173  100   22    2 1719  130   89  169   11    5\n",
      "    50    0]\n",
      " [  38   50    9   47   55   26   42    5   64  595  170  242   16   52\n",
      "    14    0]\n",
      " [  12   56    3   27   10   14   34    0   17   52  650  132    9   21\n",
      "     4    0]\n",
      " [ 151   77   14   86   55    9   52    2   33  101  106  632   25  175\n",
      "    15    1]\n",
      " [  60   50   15  101   98    7   46    2   52  140  100  382  704  224\n",
      "    20    4]\n",
      " [  46   68   16   89    9    0  101    1    1   49  206  164    7  830\n",
      "     2    8]\n",
      " [   7    1    1    4   24   16    7    0   51   42   12   42    0    0\n",
      "   264    1]\n",
      " [  57   19    7   24   12    2    9    0    2   24   25  125    6   98\n",
      "     2  649]]\n"
     ]
    },
    {
     "data": {
      "image/png": "[encoded data removed]",
      "text/plain": [
       "<Figure size 432x288 with 1 Axes>"
      ]
     },
     "metadata": {},
     "output_type": "display_data"
    }
   ],
   "source": [
    "tfidf = TfidfTransformer()\n",
    "tfidf.fit(X_train)\n",
    "train_tf = tfidf.transform(X_train)\n",
    "test_tf = tfidf.transform(X_test)\n",
    "ncr = NearestCentroid()\n",
    "ncr_me = testClassifier(train_tf, y_train, test_tf, y_test, ncr)\n",
    "metrics_dict.append({'name':'Rocchio', 'metrics':ncr_me})"
   ]
  },
  {
   "cell_type": "markdown",
   "metadata": {},
   "source": [
    "#### kNN Classification"
   ]
  },
  {
   "cell_type": "markdown",
   "metadata": {},
   "source": [
    "We'll use kNearestNeighbor for classification now. We tried different values for k and 4 came out to be the best for this."
   ]
  },
  {
   "cell_type": "code",
   "execution_count": 10,
   "metadata": {},
   "outputs": [
    {
     "name": "stdout",
     "output_type": "stream",
     "text": [
      "training time:  0:00:00.061494\n",
      "testing time:  0:01:48.927677\n",
      "classification report: \n",
      "                  precision    recall  f1-score   support\n",
      "\n",
      "KaiserHealthNews       0.37      0.60      0.45      1202\n",
      "       NBChealth       0.21      0.40      0.28      1419\n",
      "       bbchealth       0.23      0.49      0.31      1323\n",
      "       cbchealth       0.29      0.26      0.28      1274\n",
      "       cnnhealth       0.35      0.34      0.34      1315\n",
      "  everydayhealth       0.47      0.58      0.52      1083\n",
      "   foxnewshealth       0.14      0.09      0.11       638\n",
      "   gdnhealthcare       0.47      0.85      0.61       982\n",
      "      goodhealth       0.70      0.59      0.64      2527\n",
      "   latimeshealth       0.42      0.15      0.22      1425\n",
      "   msnhealthnews       0.29      0.22      0.25      1041\n",
      "       nprhealth       0.27      0.14      0.19      1534\n",
      "   nytimeshealth       0.44      0.32      0.37      2005\n",
      "  reuters_health       0.43      0.26      0.33      1597\n",
      "    usnewshealth       0.67      0.38      0.48       472\n",
      "       wsjhealth       0.61      0.28      0.38      1061\n",
      "\n",
      "     avg / total       0.41      0.38      0.37     20898\n",
      "\n",
      "f1 score\n",
      "0.3597917504797554\n",
      "accuracy score\n",
      "0.37960570389510956\n",
      "confusion matrix:\n",
      "[[ 717   67   84   24   28   11   13   34   13   12   15   73   56   24\n",
      "     5   26]\n",
      " [ 114  565  169   77   77   45   26   53   39   23   49   58   66   40\n",
      "     5   13]\n",
      " [  75  161  644   54   54   25   13   83   29   19   30   28   59   33\n",
      "     2   14]\n",
      " [  70  164  251  335   46   30   24   64   25   25   45   57   64   60\n",
      "     5    9]\n",
      " [  87  158  158   71  444   54   21   41   95   18   31   43   61   24\n",
      "     2    7]\n",
      " [  23   62   66   24   48  628    9   24   97   14   32    9   26    8\n",
      "    13    0]\n",
      " [  30  108   94   37   32   32   59   52   35   12   26   23   27   61\n",
      "     4    6]\n",
      " [  12   14   65    9   10    6    0  838    4    3    1    2   12    3\n",
      "     0    3]\n",
      " [  77  151  105   57  113  183   28   95 1501   18   54   26   73   24\n",
      "    19    3]\n",
      " [ 112  211  172   80  111   66   28   83   86  211   57   58   94   40\n",
      "     6   10]\n",
      " [  49  179  175   47   50   47   24   56   38   38  225   22   54   26\n",
      "     3    8]\n",
      " [ 195  247  204   88   75   39   30   97   52   34   57  220   92   65\n",
      "    14   25]\n",
      " [ 148  219  251   95   84   68   32  109   56   37   57   94  648   77\n",
      "     8   22]\n",
      " [  98  213  253   96   38   38   82   72   22   20   68   47   83  423\n",
      "     1   43]\n",
      " [  18   37   32   15   33   36   13   16   46    8   10   12   15    2\n",
      "   177    2]\n",
      " [ 134  106  123   51   30   16   16   61   15   10   23   51   51   74\n",
      "     2  298]]\n"
     ]
    },
    {
     "data": {
      "image/png": "[encoded data removed]",
      "text/plain": [
       "<Figure size 432x288 with 1 Axes>"
      ]
     },
     "metadata": {},
     "output_type": "display_data"
    }
   ],
   "source": [
    "knn = KNeighborsClassifier(n_neighbors = 5)\n",
    "knn_me = testClassifier(train_tf, y_train, test_tf, y_test, knn)\n",
    "metrics_dict.append({'name':'kNN', 'metrics':knn_me})"
   ]
  },
  {
   "cell_type": "markdown",
   "metadata": {},
   "source": [
    "#### Conclusion"
   ]
  },
  {
   "cell_type": "markdown",
   "metadata": {},
   "source": [
    "For this dataset the Rocchio outperformed the rest of the two classification algorithms and it also was the one that took the least amount of time for training as well testing of the data."
   ]
  },
  {
   "cell_type": "markdown",
   "metadata": {},
   "source": [
    "## Sentence Corpus"
   ]
  },
  {
   "cell_type": "markdown",
   "metadata": {},
   "source": [
    "First of all we need to do pre-processing on the data as it is in raw text format. We split the dataset according to the Argumentative Zones annotation scheme and clean-up the text."
   ]
  },
  {
   "cell_type": "markdown",
   "metadata": {},
   "source": [
    "#### Pre-processing"
   ]
  },
  {
   "cell_type": "markdown",
   "metadata": {},
   "source": [
    "We divide the documents into different classes according to the Argumentative Zones annotation scheme. The documents are then converted to tf-idf vectors. Further they are split into train test sets."
   ]
  },
  {
   "cell_type": "code",
   "execution_count": 11,
   "metadata": {},
   "outputs": [],
   "source": [
    "sentence_corpus = os.listdir('Datasets/SentenceCorpus/SentenceCorpus/labeled_articles')\n",
    "X_data = []\n",
    "y_data = []\n",
    "for files in sentence_corpus:\n",
    "    file = open ('Datasets/SentenceCorpus/SentenceCorpus/labeled_articles/'+files)\n",
    "    data = file.readlines()\n",
    "    for lines in data:\n",
    "        if '###' not in lines:\n",
    "            lines = lines.split(\"\\t\")\n",
    "            try:\n",
    "                X_data.append(lines[1].lower().replace(' citation',''))\n",
    "                y_data.append(lines[0].lower().strip())\n",
    "            except: pass\n",
    "    file.close()\n",
    "vectorizer = CountVectorizer()\n",
    "vectorizer.fit(X_data)\n",
    "train_mat = vectorizer.transform(X_data)\n",
    "tfidf = TfidfTransformer()\n",
    "tfidf.fit(train_mat)\n",
    "train_tfmat = tfidf.transform(train_mat)\n",
    "X_train, X_test, y_train, y_test = train_test_split(train_tfmat, \n",
    "                    y_data, test_size=0.33, random_state=42)"
   ]
  },
  {
   "cell_type": "markdown",
   "metadata": {},
   "source": [
    "#### Naive Bayes"
   ]
  },
  {
   "cell_type": "markdown",
   "metadata": {},
   "source": [
    "We have chosen MultinomialNB as it gives the best results for Naive Bayes in case of text classification."
   ]
  },
  {
   "cell_type": "code",
   "execution_count": 12,
   "metadata": {
    "scrolled": true
   },
   "outputs": [
    {
     "name": "stdout",
     "output_type": "stream",
     "text": [
      "training time:  0:00:00.008956\n",
      "testing time:  0:00:00.001373\n",
      "classification report: \n",
      "             precision    recall  f1-score   support\n",
      "\n",
      "       aimx       0.00      0.00      0.00        35\n",
      "       base       0.00      0.00      0.00         9\n",
      "       cont       0.00      0.00      0.00        33\n",
      "       misc       0.61      1.00      0.76       272\n",
      "       ownx       0.83      0.29      0.43       150\n",
      "\n",
      "avg / total       0.58      0.63      0.54       499\n",
      "\n",
      "f1 score\n",
      "0.23646979440642255\n",
      "accuracy score\n",
      "0.6312625250501002\n",
      "confusion matrix:\n",
      "[[  0   0   0  29   6]\n",
      " [  0   0   0   6   3]\n",
      " [  0   0   0  33   0]\n",
      " [  0   0   0 272   0]\n",
      " [  0   0   0 107  43]]\n"
     ]
    },
    {
     "data": {
      "image/png": "[encoded data removed]",
      "text/plain": [
       "<Figure size 432x288 with 1 Axes>"
      ]
     },
     "metadata": {},
     "output_type": "display_data"
    }
   ],
   "source": [
    "mnb = MultinomialNB()\n",
    "mnb_me = testClassifier(X_train, y_train, X_test, y_test, mnb)\n",
    "metrics_dict.append({'name':'NaiveBayes', 'metrics':mnb_me})"
   ]
  },
  {
   "cell_type": "markdown",
   "metadata": {},
   "source": [
    "#### Rocchio Classification"
   ]
  },
  {
   "cell_type": "markdown",
   "metadata": {},
   "source": [
    "For this we will be using the NearestCentroid classifier as when it is used for text classification with tf-idf vectors, this classifier is also known as the Rocchio classifier."
   ]
  },
  {
   "cell_type": "code",
   "execution_count": 13,
   "metadata": {},
   "outputs": [
    {
     "name": "stdout",
     "output_type": "stream",
     "text": [
      "training time:  0:00:00.013593\n",
      "testing time:  0:00:00.003481\n",
      "classification report: \n",
      "             precision    recall  f1-score   support\n",
      "\n",
      "       aimx       0.73      0.46      0.56        35\n",
      "       base       0.50      0.22      0.31         9\n",
      "       cont       0.44      0.33      0.38        33\n",
      "       misc       0.79      0.93      0.85       272\n",
      "       ownx       0.75      0.63      0.68       150\n",
      "\n",
      "avg / total       0.74      0.75      0.74       499\n",
      "\n",
      "f1 score\n",
      "0.5562834866867061\n",
      "accuracy score\n",
      "0.7535070140280561\n",
      "confusion matrix:\n",
      "[[ 16   1   1   5  12]\n",
      " [  0   2   2   1   4]\n",
      " [  0   0  11  17   5]\n",
      " [  0   1   7 253  11]\n",
      " [  6   0   4  46  94]]\n"
     ]
    },
    {
     "data": {
      "image/png": "[encoded data removed]",
      "text/plain": [
       "<Figure size 432x288 with 1 Axes>"
      ]
     },
     "metadata": {},
     "output_type": "display_data"
    }
   ],
   "source": [
    "tfidf = TfidfTransformer()\n",
    "tfidf.fit(X_train)\n",
    "train_tf = tfidf.transform(X_train)\n",
    "test_tf = tfidf.transform(X_test)\n",
    "ncr = NearestCentroid()\n",
    "ncr_me = testClassifier(train_tf, y_train, test_tf, y_test, ncr)\n",
    "metrics_dict.append({'name':'Rocchio', 'metrics':ncr_me})"
   ]
  },
  {
   "cell_type": "markdown",
   "metadata": {},
   "source": [
    "#### kNN Classification"
   ]
  },
  {
   "cell_type": "markdown",
   "metadata": {},
   "source": [
    "We'll use kNearestNeighbor for classification now. We tried different values for k and 4 came out to be the best for this."
   ]
  },
  {
   "cell_type": "code",
   "execution_count": 14,
   "metadata": {},
   "outputs": [
    {
     "name": "stdout",
     "output_type": "stream",
     "text": [
      "training time:  0:00:00.004380\n",
      "testing time:  0:00:00.055142\n",
      "classification report: \n",
      "             precision    recall  f1-score   support\n",
      "\n",
      "       aimx       0.14      0.14      0.14        35\n",
      "       base       0.00      0.00      0.00         9\n",
      "       cont       0.16      0.09      0.12        33\n",
      "       misc       0.75      0.79      0.77       272\n",
      "       ownx       0.61      0.60      0.61       150\n",
      "\n",
      "avg / total       0.61      0.63      0.62       499\n",
      "\n",
      "f1 score\n",
      "0.32674377265926563\n",
      "accuracy score\n",
      "0.6292585170340681\n",
      "confusion matrix:\n",
      "[[  5   0   0  17  13]\n",
      " [  1   0   2   0   6]\n",
      " [  3   1   3  18   8]\n",
      " [ 13   3  10 216  30]\n",
      " [ 14   5   4  37  90]]\n"
     ]
    },
    {
     "data": {
      "image/png": "[encoded data removed]",
      "text/plain": [
       "<Figure size 432x288 with 1 Axes>"
      ]
     },
     "metadata": {},
     "output_type": "display_data"
    }
   ],
   "source": [
    "knn = KNeighborsClassifier(n_neighbors = 5)\n",
    "knn_me = testClassifier(train_tf, y_train, test_tf, y_test, knn)\n",
    "metrics_dict.append({'name':'kNN', 'metrics':knn_me})"
   ]
  },
  {
   "cell_type": "markdown",
   "metadata": {},
   "source": [
    "#### Conclusion"
   ]
  },
  {
   "cell_type": "markdown",
   "metadata": {},
   "source": [
    "For this dataset again the Rocchio outperformed the rest of the two classification algorithms and it also was the one that took the least amount of time for training as well testing of the data. The Naive Bayes performed the worst in this case"
   ]
  }
 ],
 "metadata": {
  "kernelspec": {
   "display_name": "Python 3",
   "language": "python",
   "name": "python3"
  },
  "language_info": {
   "codemirror_mode": {
    "name": "ipython",
    "version": 3
   },
   "file_extension": ".py",
   "mimetype": "text/x-python",
   "name": "python",
   "nbconvert_exporter": "python",
   "pygments_lexer": "ipython3",
   "version": "3.6.5"
  }
 },
 "nbformat": 4,
 "nbformat_minor": 2
}
